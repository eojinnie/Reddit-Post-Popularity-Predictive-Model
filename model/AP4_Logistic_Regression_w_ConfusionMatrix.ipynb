{
  "cells": [
    {
      "cell_type": "markdown",
      "metadata": {
        "id": "whlOnOt2M02H"
      },
      "source": [
        "L2-regularized logistic regression for binary or multiclass classification; trains a model (on `train.txt`), optimizes L2 regularization strength on `dev.txt`, and evaluates performance on `test.txt`.  Reports test accuracy with 95% confidence intervals and prints out the strongest coefficients for each class."
      ]
    },
    {
      "cell_type": "code",
      "execution_count": 46,
      "metadata": {
        "id": "TQTT9x-6d2JI"
      },
      "outputs": [],
      "source": [
        "from scipy import sparse\n",
        "from sklearn import linear_model\n",
        "from collections import Counter\n",
        "import numpy as np\n",
        "import operator\n",
        "import nltk\n",
        "import math\n",
        "from scipy.stats import norm\n",
        "from sklearn.feature_extraction.text import TfidfVectorizer"
      ]
    },
    {
      "cell_type": "code",
      "execution_count": 47,
      "metadata": {
        "id": "e4KuVSCSqlUX",
        "scrolled": true,
        "colab": {
          "base_uri": "https://localhost:8080/"
        },
        "outputId": "ad42c48a-2473-4f32-a0de-97e16d2e2d93"
      },
      "outputs": [
        {
          "output_type": "stream",
          "name": "stdout",
          "text": [
            "/usr/lib/python3.10/runpy.py:126: RuntimeWarning: 'nltk.downloader' found in sys.modules after import of package 'nltk', but prior to execution of 'nltk.downloader'; this may result in unpredictable behaviour\n",
            "  warn(RuntimeWarning(msg))\n",
            "[nltk_data] Downloading package punkt to /root/nltk_data...\n",
            "[nltk_data]   Package punkt is already up-to-date!\n"
          ]
        }
      ],
      "source": [
        "\n",
        "!python -m nltk.downloader punkt"
      ]
    },
    {
      "cell_type": "code",
      "execution_count": 48,
      "metadata": {
        "id": "WvJM9JGCM02J"
      },
      "outputs": [],
      "source": [
        "def load_data(filename):\n",
        "    X = []\n",
        "    Y = []\n",
        "    with open(filename, encoding=\"utf-8\") as file:\n",
        "        for line in file:\n",
        "            cols = line.split(\"\\t\")\n",
        "            idd = cols[0]\n",
        "            label = cols[2].lstrip().rstrip()\n",
        "            text = cols[3]\n",
        "\n",
        "            X.append(text)\n",
        "            Y.append(label)\n",
        "\n",
        "    return X, Y\n"
      ]
    },
    {
      "cell_type": "code",
      "execution_count": 62,
      "metadata": {
        "id": "CGiM8qQiJOBU"
      },
      "outputs": [],
      "source": [
        "from sklearn.metrics import confusion_matrix\n",
        "import matplotlib.pyplot as plt\n",
        "import pandas as pd\n",
        "\n",
        "class Classifier:\n",
        "\n",
        "    def __init__(self, feature_method, trainX, trainY, devX, devY, testX, testY):\n",
        "        self.feature_vocab = {}\n",
        "        self.feature_method = feature_method\n",
        "        self.min_feature_count=2\n",
        "        self.log_reg = None\n",
        "\n",
        "        self.trainY=trainY\n",
        "        self.devY=devY\n",
        "        self.testY=testY\n",
        "        \n",
        "        self.trainX = self.process(trainX, training=True)\n",
        "        self.devX = self.process(devX, training=False)\n",
        "        self.testX = self.process(testX, training=False)\n",
        "\n",
        "    # Featurize entire dataset\n",
        "    def featurize(self, data):\n",
        "        featurized_data = []\n",
        "        for text in data:\n",
        "            feats = self.feature_method(text)\n",
        "            featurized_data.append(feats)\n",
        "        return featurized_data\n",
        "\n",
        "    # Read dataset and returned featurized representation as sparse matrix + label array\n",
        "    def process(self, X_data, training = False):\n",
        "        \n",
        "        data = self.featurize(X_data)\n",
        "\n",
        "        if training:\n",
        "            fid = 0\n",
        "            feature_doc_count = Counter()\n",
        "            for feats in data:\n",
        "                for feat in feats:\n",
        "                    feature_doc_count[feat]+= 1\n",
        "\n",
        "            for feat in feature_doc_count:\n",
        "                if feature_doc_count[feat] >= self.min_feature_count:\n",
        "                    self.feature_vocab[feat] = fid\n",
        "                    fid += 1\n",
        "\n",
        "        F = len(self.feature_vocab)\n",
        "        D = len(data)\n",
        "        X = sparse.dok_matrix((D, F))\n",
        "        for idx, feats in enumerate(data):\n",
        "            for feat in feats:\n",
        "                if feat in self.feature_vocab:\n",
        "                    X[idx, self.feature_vocab[feat]] = feats[feat]\n",
        "\n",
        "        return X\n",
        "\n",
        "\n",
        "    # Train model and evaluate on held-out data\n",
        "    def train(self):\n",
        "        (D,F) = self.trainX.shape\n",
        "        best_dev_accuracy=0\n",
        "        best_model=None\n",
        "        for C in [0.1, 1, 10, 100]:\n",
        "            self.log_reg = linear_model.LogisticRegression(C = C, max_iter=1000)\n",
        "            self.log_reg.fit(self.trainX, self.trainY)\n",
        "            training_accuracy = self.log_reg.score(self.trainX, self.trainY)\n",
        "            development_accuracy = self.log_reg.score(self.devX, self.devY)\n",
        "            if development_accuracy > best_dev_accuracy:\n",
        "                best_dev_accuracy=development_accuracy\n",
        "                best_model=self.log_reg\n",
        "\n",
        "#             print(\"C: %s, Train accuracy: %.3f, Dev accuracy: %.3f\" % (C, training_accuracy, development_accuracy))\n",
        "\n",
        "        self.log_reg=best_model\n",
        "        \n",
        "\n",
        "    def test(self):\n",
        "        return self.log_reg.score(self.testX, self.testY)\n",
        "    \n",
        "    def cMatrix(self):\n",
        "      \"self, feature_method, trainX, trainY, devX, devY, testX, testY\"\n",
        "      pY = self.log_reg.predict(self.testX)\n",
        "      cm = confusion_matrix(self.testY, pY)\n",
        "      cm_df = pd.DataFrame(cm,\n",
        "                           index = ['Not Popular', 'Average', 'Popular'],\n",
        "                           columns = ['Not Popular', 'Average', 'Popular'])\n",
        "      plt.figure(figsize=(5,4))\n",
        "      sns.heatmap(cm_df, annot=True)\n",
        "      plt.title('Confusion Matrix')\n",
        "      plt.ylabel('Actal Values')\n",
        "      plt.xlabel('Predicted Values')\n",
        "      plt.show()\n",
        "\n",
        "    def printWeights(self, n=10):\n",
        "\n",
        "        reverse_vocab=[None]*len(self.log_reg.coef_[0])\n",
        "        for k in self.feature_vocab:\n",
        "            reverse_vocab[self.feature_vocab[k]]=k\n",
        "\n",
        "        # binary\n",
        "        if len(self.log_reg.classes_) == 2:\n",
        "              weights=self.log_reg.coef_[0]\n",
        "\n",
        "              cat=self.log_reg.classes_[1]\n",
        "              for feature, weight in list(reversed(sorted(zip(reverse_vocab, weights), key = operator.itemgetter(1))))[:n]:\n",
        "                  print(\"%s\\t%.3f\\t%s\" % (cat, weight, feature))\n",
        "              print()\n",
        "\n",
        "              cat=self.log_reg.classes_[0]\n",
        "              for feature, weight in list(sorted(zip(reverse_vocab, weights), key = operator.itemgetter(1)))[:n]:\n",
        "                  print(\"%s\\t%.3f\\t%s\" % (cat, weight, feature))\n",
        "              print()\n",
        "\n",
        "        # multiclass\n",
        "        else:\n",
        "          for i, cat in enumerate(self.log_reg.classes_):\n",
        "\n",
        "              weights=self.log_reg.coef_[i]\n",
        "\n",
        "              for feature, weight in list(reversed(sorted(zip(reverse_vocab, weights), key = operator.itemgetter(1))))[:n]:\n",
        "                  print(\"%s\\t%.3f\\t%s\" % (cat, weight, feature))\n",
        "              print()\n",
        "\n",
        "            "
      ]
    },
    {
      "cell_type": "code",
      "source": [],
      "metadata": {
        "id": "BtHX47srd9Yd"
      },
      "execution_count": 62,
      "outputs": []
    },
    {
      "cell_type": "code",
      "execution_count": 72,
      "metadata": {
        "id": "jnmb-B75M02L",
        "colab": {
          "base_uri": "https://localhost:8080/"
        },
        "outputId": "d7ca9f9a-1f63-43f8-dc2b-ab5802a02b6e"
      },
      "outputs": [
        {
          "output_type": "stream",
          "name": "stderr",
          "text": [
            "[nltk_data] Downloading package opinion_lexicon to /root/nltk_data...\n",
            "[nltk_data]   Package opinion_lexicon is already up-to-date!\n"
          ]
        }
      ],
      "source": [
        "import nltk\n",
        "nltk.download('opinion_lexicon')\n",
        "\n",
        "from nltk.corpus import opinion_lexicon\n",
        "\n",
        "\n",
        "def binary_bow_featurize(text):\n",
        "    feats = {}\n",
        "    words = nltk.word_tokenize(text)\n",
        "\n",
        "    #To assess capitalization of text (whether title contains at least one word that's in ALLCAP)\n",
        "    ALLCAP = 0\n",
        "    exclam = 0\n",
        "    qmark = 0\n",
        "    sarc_1 = 0\n",
        "    sarc = set(['...', '??? ', ':)', ':(', 'lmao'])\n",
        "\n",
        "    # Get the positive and negative words from the opinion lexicon\n",
        "    positive_words = set(opinion_lexicon.positive())\n",
        "    negative_words = set(opinion_lexicon.negative())\n",
        "\n",
        "    # Add some custom negative words\n",
        "    negative_words.update(set(['not', 'no', 'never', 'hate', 'sad', 'Not worth', 'not good']))\n",
        "    negative = 0\n",
        "    # Add some custom positive words\n",
        "    positive_words.update(set(['awesome', 'fantastic', 'amazing', 'love', 'happy', 'fun', 'the best', 'finally made it']))\n",
        "    positive = 0\n",
        "\n",
        "    for word in words:\n",
        "        if len(word) != 1 and word == word.upper():\n",
        "          ALLCAP = 1\n",
        "\n",
        "        word=word.lower()\n",
        "        if word in negative_words:\n",
        "          negative += 1\n",
        "        if word in positive_words:\n",
        "          positive += 1\n",
        "\n",
        "        if word in sarc:\n",
        "          sarc_1 = 1\n",
        "        if word == '?':\n",
        "          qmark = 1\n",
        "        if word == '!':\n",
        "          exclam = 1\n",
        "\n",
        "    length = len(words)\n",
        "\n",
        "    #Clarity\n",
        "    if length <= 10 or qmark == 1:\n",
        "      feats['Clarity'] = 1\n",
        "\n",
        "    #Sarcasm\n",
        "    if exclam == 1 or sarc_1 == 1 or ALLCAP == 1:\n",
        "      feats['Sarcasm'] = 1\n",
        "\n",
        "    #Tone\n",
        "    if positive > negative:\n",
        "      feats['positive'] = 1\n",
        "    elif negative > positive:\n",
        "      feats['negative'] = 1\n",
        "    else:\n",
        "      feats['neutral'] = 1\n",
        "\n",
        "    #Q vs. Statement\n",
        "    if qmark == 1:\n",
        "      feats['QS'] = 1\n",
        "\n",
        "    #Capitalization\n",
        "    if ALLCAP == 1:\n",
        "      feats['allcap'] = 1\n",
        "\n",
        "\n",
        "    #Sentence Length\n",
        "    if length <= 10:\n",
        "        feats['length:0-10'] = 1\n",
        "    elif length <= 20:\n",
        "        feats['length:11-20'] = 1\n",
        "    else:\n",
        "        feats['length:20+'] = 1\n",
        "            \n",
        "    return feats\n",
        "\n"
      ]
    },
    {
      "cell_type": "code",
      "execution_count": 73,
      "metadata": {
        "id": "frVntACeM02L"
      },
      "outputs": [],
      "source": [
        "def confidence_intervals(accuracy, n, significance_level):\n",
        "    critical_value=(1-significance_level)/2\n",
        "    z_alpha=-1*norm.ppf(critical_value)\n",
        "    se=math.sqrt((accuracy*(1-accuracy))/n)\n",
        "    return accuracy-(se*z_alpha), accuracy+(se*z_alpha)"
      ]
    },
    {
      "cell_type": "code",
      "execution_count": 74,
      "metadata": {
        "id": "DN7aup_WM02L"
      },
      "outputs": [],
      "source": [
        "def run(trainingFile, devFile, testFile):\n",
        "    trainX, trainY=load_data(trainingFile)\n",
        "    devX, devY=load_data(devFile)\n",
        "    testX, testY=load_data(testFile)\n",
        "    \n",
        "    simple_classifier = Classifier(binary_bow_featurize, trainX, trainY, devX, devY, testX, testY)\n",
        "    simple_classifier.train()\n",
        "    accuracy=simple_classifier.test()\n",
        "    \n",
        "    lower, upper=confidence_intervals(accuracy, len(testY), .95)\n",
        "    print(\"Test accuracy for best dev model: %.3f, 95%% CIs: [%.3f %.3f]\\n\" % (accuracy, lower, upper))\n",
        "\n",
        "    simple_classifier.printWeights()\n",
        "    simple_classifier.cMatrix()\n",
        "    \n"
      ]
    },
    {
      "cell_type": "code",
      "execution_count": 75,
      "metadata": {
        "id": "ptDNcOKRM02M",
        "colab": {
          "base_uri": "https://localhost:8080/",
          "height": 1000
        },
        "outputId": "e3e552fd-dab2-4df2-b53f-c51b81dbb7aa"
      },
      "outputs": [
        {
          "output_type": "stream",
          "name": "stdout",
          "text": [
            "Test accuracy for best dev model: 0.545, 95% CIs: [0.447 0.642]\n",
            "\n",
            "Average\t0.162\tQS\n",
            "Average\t0.152\tlength:20+\n",
            "Average\t0.127\tClarity\n",
            "Average\t0.124\tneutral\n",
            "Average\t0.113\tallcap\n",
            "Average\t-0.030\tSarcasm\n",
            "Average\t-0.033\tlength:11-20\n",
            "Average\t-0.034\tpositive\n",
            "Average\t-0.089\tnegative\n",
            "Average\t-0.119\tlength:0-10\n",
            "\n",
            "Not popular\t0.210\tnegative\n",
            "Not popular\t0.142\tlength:11-20\n",
            "Not popular\t0.054\tSarcasm\n",
            "Not popular\t0.053\tlength:0-10\n",
            "Not popular\t0.005\tallcap\n",
            "Not popular\t-0.001\tClarity\n",
            "Not popular\t-0.013\tQS\n",
            "Not popular\t-0.052\tpositive\n",
            "Not popular\t-0.158\tneutral\n",
            "Not popular\t-0.195\tlength:20+\n",
            "\n",
            "Popular\t0.104\tpositive\n",
            "Popular\t0.048\tlength:20+\n",
            "Popular\t0.024\tlength:0-10\n",
            "Popular\t0.009\tSarcasm\n",
            "Popular\t-0.003\tneutral\n",
            "Popular\t-0.071\tlength:11-20\n",
            "Popular\t-0.087\tallcap\n",
            "Popular\t-0.101\tnegative\n",
            "Popular\t-0.116\tQS\n",
            "Popular\t-0.150\tClarity\n",
            "\n",
            "label\t0.042\tlength:0-10\n",
            "label\t0.038\tneutral\n",
            "label\t0.024\tClarity\n",
            "label\t-0.005\tlength:20+\n",
            "label\t-0.018\tpositive\n",
            "label\t-0.020\tnegative\n",
            "label\t-0.031\tallcap\n",
            "label\t-0.033\tQS\n",
            "label\t-0.033\tSarcasm\n",
            "label\t-0.038\tlength:11-20\n",
            "\n"
          ]
        },
        {
          "output_type": "display_data",
          "data": {
            "text/plain": [
              "<Figure size 500x400 with 2 Axes>"
            ],
            "image/png": "[encoded data removed]"
          },
          "metadata": {}
        }
      ],
      "source": [
        "trainingFile = \"train.txt\"\n",
        "devFile = \"dev.txt\"\n",
        "testFile = \"test.txt\"\n",
        "    \n",
        "run(trainingFile, devFile, testFile)\n"
      ]
    },
    {
      "cell_type": "code",
      "source": [],
      "metadata": {
        "id": "zzHtxdye4M-2"
      },
      "execution_count": 53,
      "outputs": []
    }
  ],
  "metadata": {
    "colab": {
      "provenance": []
    },
    "kernelspec": {
      "display_name": "Python 3 (ipykernel)",
      "language": "python",
      "name": "python3"
    },
    "language_info": {
      "codemirror_mode": {
        "name": "ipython",
        "version": 3
      },
      "file_extension": ".py",
      "mimetype": "text/x-python",
      "name": "python",
      "nbconvert_exporter": "python",
      "pygments_lexer": "ipython3",
      "version": "3.8.3"
    }
  },
  "nbformat": 4,
  "nbformat_minor": 0
}